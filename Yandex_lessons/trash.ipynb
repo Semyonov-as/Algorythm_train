{
 "cells": [
  {
   "cell_type": "code",
   "execution_count": 5,
   "metadata": {},
   "outputs": [
    {
     "name": "stdout",
     "output_type": "stream",
     "text": [
      "3 10\n",
      "1 4 7 10 13 16 19 22 25 28\n",
      "0 2 5 9 14 20 27 35 44 54\n",
      "1 7 16 16 21 22 24 34 42 45\n"
     ]
    }
   ],
   "source": [
    "tmp = \"\"\"[1, 4, 7, 10, 13, 16, 19, 22, 25, 28]\n",
    "[0, 2, 5, 9, 14, 20, 27, 35, 44, 54]\n",
    "[1, 7, 16, 16, 21, 22, 24, 34, 42, 45]\"\"\".split('\\n')\n",
    "print(3, 10)\n",
    "for t in tmp:\n",
    "    print(\" \".join(t.strip('[]').split(', ')))"
   ]
  }
 ],
 "metadata": {
  "kernelspec": {
   "display_name": "Python 3.9.2 64-bit",
   "language": "python",
   "name": "python3"
  },
  "language_info": {
   "codemirror_mode": {
    "name": "ipython",
    "version": 3
   },
   "file_extension": ".py",
   "mimetype": "text/x-python",
   "name": "python",
   "nbconvert_exporter": "python",
   "pygments_lexer": "ipython3",
   "version": "3.9.2"
  },
  "orig_nbformat": 4,
  "vscode": {
   "interpreter": {
    "hash": "81794d4967e6c3204c66dcd87b604927b115b27c00565d3d43f05ba2f3a2cb0d"
   }
  }
 },
 "nbformat": 4,
 "nbformat_minor": 2
}
